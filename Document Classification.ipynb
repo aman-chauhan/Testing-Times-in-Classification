{
 "cells": [
  {
   "cell_type": "markdown",
   "metadata": {
    "nbpresent": {
     "id": "900f95da-1ebd-402d-9dcc-e9931d4ddb99"
    }
   },
   "source": [
    "# Document Classification\n",
    "---\n",
    "## Comparision of TF-IDF Method and Naive Bayes Method\n",
    "\n",
    "For the dataset we have taken the StackOverflow Text Classification problem dataset from HackerRank. \n",
    "\n",
    "The problem is as follows - \n",
    "*Stack Exchange is an information powerhouse, built on the power of crowdsourcing. It has 105 different topics and each topic has a library of questions which have been asked and answered by knowledgeable members of the StackExchange community. The topics are as diverse as travel, cooking, programming, engineering and photography.*\n",
    "\n",
    "*We have hand-picked ten different topics (such as Electronics, Mathematics, Photography etc.) from Stack Exchange, and we provide you with a set of questions from these topics.*\n",
    "\n",
    "*Given a question and an excerpt, your task is to identify which among the 10 topics it belongs to.*\n",
    "\n",
    "Based on the above dataset, we implemented two algorithms to solve the problem. We have analysed the text by testing the impact of number of stopwords has on the overall accuracy of the prediction, and compared the performance of the these two methods. "
   ]
  },
  {
   "cell_type": "code",
   "execution_count": 3,
   "metadata": {
    "collapsed": true,
    "nbpresent": {
     "id": "2b59d5b5-bde7-4966-898b-feaef60c1537"
    }
   },
   "outputs": [],
   "source": [
    "import math\n",
    "import sys\n",
    "from decimal import Decimal\n",
    "import time\n",
    "import json\n",
    "import re, string\n",
    "import matplotlib.pyplot as plt\n",
    "from sklearn import metrics\n",
    "%matplotlib inline\n",
    "regex=re.compile('[%s]' % re.escape(string.punctuation))"
   ]
  },
  {
   "cell_type": "markdown",
   "metadata": {},
   "source": [
    "### Training of TF-IDF Classifier\n",
    "The following function will train the TF-IDF classifier. \n",
    "- It takes as input the filepath of training json file, and the stop word limit. \n",
    "- Stop words are the very frequently occuring words in the training set whose value to a class is very less. Hence they only increase the computation during testing. Limit equal to zero implies that we are not creating a list of stop words. Any other value of limit will check for words that have frequency more than the limit in the vocabulary, and then add them to stop words.\n",
    "- The function returns a dictionary of dictionaries which store the count(*count*) of each word in each class, the vocabulary(*vocab*) of the training data and the list of stop words(*stop*)."
   ]
  },
  {
   "cell_type": "code",
   "execution_count": 4,
   "metadata": {
    "nbpresent": {
     "id": "46dbd0d6-fada-4e56-9ad3-e2bb3d8b1bce"
    }
   },
   "outputs": [],
   "source": [
    "def train_tf_idf(filepath, limit):\n",
    "    \n",
    "    f=open(filepath)\n",
    "    n=int(f.readline().strip())\n",
    "    \n",
    "    pack={}\n",
    "    \n",
    "    counts={}\n",
    "    vocab={}\n",
    "    stop={}\n",
    "    \n",
    "    for i in range(n):\n",
    "        obj=json.loads(f.readline().strip())\n",
    "        e=obj['question']+' '+obj['excerpt']\n",
    "        t=obj['topic']\n",
    "        \n",
    "        if t not in counts:\n",
    "            counts[t]={}\n",
    "        \n",
    "        e=regex.sub('',e)\n",
    "        elist=e.split()\n",
    "        \n",
    "        for word in elist:\n",
    "            word=word.lower()\n",
    "            \n",
    "            if word not in vocab:\n",
    "                vocab[word]=0\n",
    "            vocab[word]+=1\n",
    "            \n",
    "            if word in counts[t]:\n",
    "                counts[t][word]+=1\n",
    "            else:\n",
    "                counts[t][word]=1\n",
    "    \n",
    "    if limit!=0:\n",
    "        for x in sorted(vocab, key=vocab.get, reverse=True):\n",
    "            if vocab[x]>limit:\n",
    "                stop[x]=vocab[x]\n",
    "                del vocab[x]\n",
    "\n",
    "    pack.update({'counts':counts})\n",
    "    pack.update({'vocab':vocab})\n",
    "    pack.update({'stop':stop})\n",
    "    return pack"
   ]
  },
  {
   "cell_type": "markdown",
   "metadata": {},
   "source": [
    "### Testing using TF-IDF Classifier\n",
    "The following function will test a given test set using the TF-IDF classifier. \n",
    "- It takes as input the filepath of training json file, dictionary of count of each word in each class, a dictionary of stop words and a dictionary of vocabulary.\n",
    "- Each word in the question and excerpt is checked in the *count* dictionary. TF stands for term frequency, ie a score based on count of that word in the class we are considering. IDF stands for inverse document frequency, which gives a score based on how many classes is that word present. The product of these scores gives the TF-IDF score of that word, and the summation of the scores of all words in a question-excerpt sentence is calculated for each class. The class which gives the maximum score is assigned to that test case.\n",
    "- The function returns a list of predicted output values from the classifier."
   ]
  },
  {
   "cell_type": "code",
   "execution_count": 5,
   "metadata": {
    "nbpresent": {
     "id": "6f73974a-58a2-4bbe-b0e1-984a021bdb1f"
    }
   },
   "outputs": [],
   "source": [
    "def predict_tf_idf(filepath,counts,vocab,stop):\n",
    "    \n",
    "    f=open(filepath)\n",
    "    n=int(f.readline().strip())\n",
    "    \n",
    "    l=[str(x) for x in counts.keys()]\n",
    "    \n",
    "    out=[]\n",
    "    local={}\n",
    "    \n",
    "    for i in range(n):\n",
    "        obj=json.loads(f.readline().strip())\n",
    "        e=obj['question']+' '+obj['excerpt']\n",
    "        \n",
    "        scores={x:0.0 for x in l}\n",
    "\n",
    "        e=regex.sub('',e)\n",
    "        elist=e.split()\n",
    "        \n",
    "        for word in elist:\n",
    "            word=word.lower()\n",
    "            if word not in stop:\n",
    "                if word not in local:\n",
    "                    local[word]={x:0 for x in l}\n",
    "                    ccount=0\n",
    "                    tf={x:0 for x in l}\n",
    "\n",
    "                    for t in l:\n",
    "                        if word in counts[t]:\n",
    "                            ccount+=1\n",
    "                            tf[t]=(1+math.log10(counts[t][word]))\n",
    "\n",
    "                    for t in l:\n",
    "                        if ccount!=0:\n",
    "                            local[word][t]=tf[t]*math.log10(float(len(l))/ccount)\n",
    "                        else:\n",
    "                            local[word][t]=0\n",
    "                        scores[t]+=local[word][t]\n",
    "                else:\n",
    "                    for t in l:\n",
    "                        scores[t]+=local[word][t]\n",
    "\n",
    "        maxo=0.0\n",
    "        topic=''\n",
    "        for t in l:\n",
    "            sums=scores[t]\n",
    "            if sums>maxo:\n",
    "                maxo=sums\n",
    "                topic=t\n",
    "        out.append(str(topic))\n",
    "    return out"
   ]
  },
  {
   "cell_type": "markdown",
   "metadata": {},
   "source": [
    "### Training of Naive Bayes Classifier\n",
    "The following function will train the Naive Bayes classifier. \n",
    "- It takes as input the filepath of training json file, and the stop word limit. \n",
    "- Stop words are the very frequently occuring words in the training set whose value to a class is very less. Hence they only increase the computation during testing. Limit equal to zero implies that we are not creating a list of stop words. Any other value of limit will check for words that have frequency more than the limit in the vocabulary, and then add them to stop words.\n",
    "- The function returns a dictionary of dictionaries which store the count of each word in each class(*count_winc*), count of all the words in the class(*count_awinc*), count of documents present in each class(*count_c*), the vocabulary(*vocab*) of the training data and the list of stop words(*stop*)."
   ]
  },
  {
   "cell_type": "code",
   "execution_count": 6,
   "metadata": {
    "collapsed": true,
    "nbpresent": {
     "id": "39810ff8-dd88-4c34-ab47-a2c9f962aaa6"
    }
   },
   "outputs": [],
   "source": [
    "def train_NB(filepath, limit):\n",
    "    f=open(filepath)\n",
    "    n=int(f.readline().strip())\n",
    "    \n",
    "    pack={}\n",
    "    \n",
    "    count_c={}\n",
    "    count_winc={}\n",
    "    count_awinc={}\n",
    "    vocab={}\n",
    "    stop={}\n",
    "    \n",
    "    for i in range(n):\n",
    "        obj=json.loads(f.readline().strip())\n",
    "        e=obj['question']+' '+obj['excerpt']\n",
    "        c=obj['topic']\n",
    "        \n",
    "        if c not in count_c:\n",
    "            count_c[c]=0\n",
    "        count_c[c]+=1\n",
    "\n",
    "        if c not in count_awinc:\n",
    "            count_awinc[c]=0\n",
    "\n",
    "        if c not in count_winc:\n",
    "            count_winc[c]={}\n",
    "\n",
    "        e=regex.sub('',e)\n",
    "        elist=e.split()\n",
    "        \n",
    "        for word in elist:\n",
    "            word=word.lower()\n",
    "            \n",
    "            count_awinc[c]+=1\n",
    "            if word not in vocab:\n",
    "                vocab[word]=0\n",
    "            vocab[word]+=1\n",
    "\n",
    "            if word not in count_winc[c]:\n",
    "                count_winc[c][word]=0\n",
    "            count_winc[c][word]+=1\n",
    "    \n",
    "    if limit!=0:\n",
    "        for x in sorted(vocab, key=vocab.get, reverse=True):\n",
    "            if vocab[x]>limit:\n",
    "                stop[x]=vocab[x]\n",
    "                del vocab[x]\n",
    "                \n",
    "    pack.update({'count_c':count_c})\n",
    "    pack.update({'count_winc':count_winc})\n",
    "    pack.update({'count_awinc':count_awinc})\n",
    "    pack.update({'vocab':vocab})\n",
    "    pack.update({'stop':stop})\n",
    "    return pack"
   ]
  },
  {
   "cell_type": "markdown",
   "metadata": {},
   "source": [
    "### Testing using Naive Bayes Classifier\n",
    "The following function will test a given test set using the TF-IDF classifier. \n",
    "- It takes as input the filepath of training json file, dictionaries which store the count of each word in each class(*count_winc*), count of all the words in the class(*count_awinc*), count of documents present in each class(*count_c*), the vocabulary(*vocab*) of the training data and the list of stop words(*stop*).\n",
    "- The test document is split into individual words. The probability of each word belonging to each of the 10 classes is calculated. The test document may contain some new words which are not in training document. The probability of such words is approximated by laplace smoothing. \n",
    "    - The probability P(Ci/word) of class i given a word w =  (f + 1)/(t+v) \n",
    "        - where f = frequency of that word in particular class\n",
    "        - t is the total number of words in that class\n",
    "        - v is the length of the vocabulary of the training data\n",
    "- The function returns a list of predicted output values from the classifier."
   ]
  },
  {
   "cell_type": "code",
   "execution_count": 7,
   "metadata": {
    "collapsed": true,
    "nbpresent": {
     "id": "7327788e-d23f-4ead-9807-6a7ec6542c13"
    }
   },
   "outputs": [],
   "source": [
    "def predict_NB(filepath,count_c,count_winc,count_awinc,vocab,stop):\n",
    "    f=open(filepath)\n",
    "    n=int(f.readline().strip())\n",
    "    \n",
    "    l=[str(x) for x in count_winc.keys()]\n",
    "    \n",
    "    globe={}\n",
    "    out=[]\n",
    "    length=len(vocab.keys())\n",
    "    \n",
    "    for i in range(n):\n",
    "        obj=json.loads(f.readline().strip())\n",
    "        e=obj['question']+' '+obj['excerpt']\n",
    "        \n",
    "        e=regex.sub('',e)\n",
    "        elist=e.split()\n",
    "        \n",
    "        local={}\n",
    "        c_prob={x:Decimal(0.0) for x in l}\n",
    "        \n",
    "        for word in elist:\n",
    "            word=word.lower()\n",
    "            if word not in stop:\n",
    "                if word not in local:\n",
    "                    local[word]=0\n",
    "                local[word]+=1\n",
    "\n",
    "                if word not in globe:\n",
    "                    globe[word]={x:0 for x in l}\n",
    "                    for c in l:\n",
    "                        if word in count_winc[c]:\n",
    "                            globe[word][c]=float(count_winc[c][word]+1)/(count_awinc[c]+length)\n",
    "                        else:\n",
    "                            globe[word][c]=float(0+1)/(count_awinc[c]+length)\n",
    "\n",
    "        maxo=Decimal(0.0)\n",
    "        topic=''\n",
    "        sums=Decimal(1.0)\n",
    "        for c in l:\n",
    "            sums=Decimal(float(count_c[c])/n)\n",
    "            for x in local.keys():\n",
    "                sums*=Decimal(math.pow(globe[x][c],local[x]))\n",
    "            c_prob[c]=sums\n",
    "\n",
    "        for c in l:\n",
    "            if c_prob[c]>maxo:\n",
    "                maxo=c_prob[c]\n",
    "                topic=str(c)\n",
    "        out.append(topic)\n",
    "    return out"
   ]
  },
  {
   "cell_type": "code",
   "execution_count": 8,
   "metadata": {
    "collapsed": true,
    "nbpresent": {
     "id": "fc8348a3-6590-4120-91fe-b727b1b44249"
    }
   },
   "outputs": [],
   "source": [
    "#this function will calculate the accuracy of the predictions made by the classifier\n",
    "def score(filepath,pred):\n",
    "    f=open(filepath)\n",
    "    target=[]\n",
    "    for line in f:\n",
    "        target.append(str(line.strip()))\n",
    "    f.close()\n",
    "    \n",
    "    cnt=0\n",
    "    for i in range(len(pred)):\n",
    "        if pred[i]==target[i]:\n",
    "            cnt+=1\n",
    "    return (float(cnt)/len(pred))"
   ]
  },
  {
   "cell_type": "code",
   "execution_count": 9,
   "metadata": {
    "nbpresent": {
     "id": "0f75098f-8aff-49a4-906c-28c707fecfa1"
    }
   },
   "outputs": [],
   "source": [
    "#this function will call other functions in the module. it will call them iteratively over a list of stop word\n",
    "#limits and calculate the tesing times and accuracy for each instance of stop word limit.\n",
    "def main():\n",
    "    limit=[0,2000,4000,6000,8000,10000]\n",
    "    train_tfidf=[]\n",
    "    train_nb=[]\n",
    "    pred_tfidf=[]\n",
    "    pred_nb=[]\n",
    "    errors_tfidf=[]\n",
    "    errors_nb=[]\n",
    "    \n",
    "    for i in limit:\n",
    "        start=time.time()\n",
    "        pack=train_tf_idf('training.json',i)\n",
    "        train_tfidf.append(time.time()-start)\n",
    "        \n",
    "        start=time.time()\n",
    "        y_tfidf=predict_tf_idf('input00.txt',pack['counts'],pack['vocab'],pack['stop'])\n",
    "        pred_tfidf.append(time.time()-start)\n",
    "        \n",
    "        errors_tfidf.append(1.0-score('output00.txt',y_tfidf))\n",
    "        \n",
    "        \n",
    "        start=time.time()\n",
    "        pack=train_NB('training.json',i)\n",
    "        train_nb.append(time.time()-start)\n",
    "        \n",
    "        start=time.time()\n",
    "        y_NB=predict_NB('input00.txt',pack['count_c'],pack['count_winc'],pack['count_awinc'],pack['vocab'],pack['stop'])\n",
    "        pred_nb.append(time.time()-start)\n",
    "        \n",
    "        errors_nb.append(1.0-score('output00.txt',y_NB))\n",
    "    \n",
    "    plt.figure(figsize=(16,16))\n",
    "    \n",
    "    plt.subplot(2,2,1)\n",
    "    plt.title('TF-IDF Training and Prediction times')\n",
    "    plt.plot(limit,train_tfidf,label='train')\n",
    "    plt.plot(limit,pred_tfidf,label='predict')\n",
    "    plt.legend(loc=\"upper right\")\n",
    "    plt.xlabel(\"Stop Word Limit\")\n",
    "    plt.ylabel(\"Time Taken in seconds\")\n",
    "    \n",
    "    plt.subplot(2,2,2)\n",
    "    plt.title('N.B. Training and Prediction times')\n",
    "    plt.plot(limit,train_nb,label='train')\n",
    "    plt.plot(limit,pred_nb,label='predict')\n",
    "    plt.legend(loc=\"upper right\")\n",
    "    plt.xlabel(\"Stop Word Limit\")\n",
    "    plt.ylabel(\"Time Taken in seconds\")\n",
    "    \n",
    "    plt.subplot(2,2,3)\n",
    "    plt.title('TF_IDF Error Behavior')\n",
    "    plt.plot(limit,errors_tfidf)\n",
    "    plt.xlabel(\"Stop Word Limit\")\n",
    "    plt.ylabel(\"Error Ratio\")\n",
    "    \n",
    "    plt.subplot(2,2,4)\n",
    "    plt.title('N.B. Error Behavior')\n",
    "    plt.plot(limit,errors_nb)\n",
    "    plt.xlabel(\"Stop Word Limit\")\n",
    "    plt.ylabel(\"Error Ratio\")\n",
    "    \n",
    "    plt.show()"
   ]
  },
  {
   "cell_type": "code",
   "execution_count": 10,
   "metadata": {
    "nbpresent": {
     "id": "7fdad524-c723-4e77-b05f-b6cf55a775e1"
    }
   },
   "outputs": [
    {
     "data": {
      "image/png": "[encoded data removed]",
      "text/plain": [
       "<matplotlib.figure.Figure at 0x7fb8893d2400>"
      ]
     },
     "metadata": {},
     "output_type": "display_data"
    }
   ],
   "source": [
    "if __name__ == \"__main__\":main()"
   ]
  },
  {
   "cell_type": "markdown",
   "metadata": {
    "collapsed": true
   },
   "source": [
    "## Conclusion\n",
    "---\n",
    "- If stop words(words having high frequencies in all classes like the,and etc.) are used for calculating probabilities of classes, the result would not be very efficient because they will have almost equal probabilities for all classes, we need words that belong to particular classes so that probability for those classes are high and classification is done correctly.\n",
    "- The testing time of algorithm is plotted for different set of stop words. In first set there are no stop words, in second words having frequencies greater than 2000 are considered stop words, third set has limit of stop words as 4000, four fourth set it is 6000, fifth set 8000, sixth set 10000.\n",
    "- It is noticed that testing time is minumum when words having frequencies greater than 2000 are taken as stop words in both naive bayes and tf-idf.\n",
    "- The error rate for tf-idf is not affected by stop words. In naive bayes the error rate is minimum when the limit of stop words is 2000(words with frequencies greater than 2000 are considered stop words). "
   ]
  }
 ],
 "metadata": {
  "anaconda-cloud": {},
  "kernelspec": {
   "display_name": "Python 3",
   "language": "python",
   "name": "python3"
  },
  "language_info": {
   "codemirror_mode": {
    "name": "ipython",
    "version": 3
   },
   "file_extension": ".py",
   "mimetype": "text/x-python",
   "name": "python",
   "nbconvert_exporter": "python",
   "pygments_lexer": "ipython3",
   "version": "3.6.1"
  },
  "nbpresent": {
   "slides": {
    "1f965cb2-5fb1-4b62-9a9b-a634a8bc23e5": {
     "id": "1f965cb2-5fb1-4b62-9a9b-a634a8bc23e5",
     "prev": "9ebbd5a0-0de0-454b-834e-05c0175250e1",
     "regions": {
      "00ab530e-f569-4b16-960b-2f8ab11f8dd5": {
       "attrs": {
        "height": 0.8,
        "width": 0.8,
        "x": 0.1,
        "y": 0.1
       },
       "content": {
        "cell": "2b59d5b5-bde7-4966-898b-feaef60c1537",
        "part": "whole"
       },
       "id": "00ab530e-f569-4b16-960b-2f8ab11f8dd5"
      }
     }
    },
    "210c53fd-4dc1-4f41-8864-9f3f9d8c624f": {
     "id": "210c53fd-4dc1-4f41-8864-9f3f9d8c624f",
     "prev": "d97b55cf-3730-462d-ad9b-912357791783",
     "regions": {
      "41f48387-3d79-42c4-91a2-26475e4683a7": {
       "attrs": {
        "height": 0.8,
        "width": 0.8,
        "x": 0.1,
        "y": 0.1
       },
       "content": {
        "cell": "0f75098f-8aff-49a4-906c-28c707fecfa1",
        "part": "whole"
       },
       "id": "41f48387-3d79-42c4-91a2-26475e4683a7"
      }
     }
    },
    "446edba8-c802-4066-9d56-6009de697ea5": {
     "id": "446edba8-c802-4066-9d56-6009de697ea5",
     "prev": "8c31ddc7-67fb-4b65-accd-df43d17005e0",
     "regions": {
      "c9a0a2f1-ee05-4d3f-8d94-de35d6eaa563": {
       "attrs": {
        "height": 0.8,
        "width": 0.8,
        "x": 0.1,
        "y": 0.1
       },
       "content": {
        "cell": "7327788e-d23f-4ead-9807-6a7ec6542c13",
        "part": "whole"
       },
       "id": "c9a0a2f1-ee05-4d3f-8d94-de35d6eaa563"
      }
     }
    },
    "8be054f7-4a57-491e-8831-5497c13705de": {
     "id": "8be054f7-4a57-491e-8831-5497c13705de",
     "prev": "f87068ac-bcc5-48c4-8048-4a8965441d01",
     "regions": {
      "9a5f5c38-959d-4faa-9512-356cbdc9d008": {
       "attrs": {
        "height": 0.8,
        "width": 0.8,
        "x": 0.1,
        "y": 0.1
       },
       "content": {
        "cell": "6f73974a-58a2-4bbe-b0e1-984a021bdb1f",
        "part": "whole"
       },
       "id": "9a5f5c38-959d-4faa-9512-356cbdc9d008"
      }
     }
    },
    "8c31ddc7-67fb-4b65-accd-df43d17005e0": {
     "id": "8c31ddc7-67fb-4b65-accd-df43d17005e0",
     "prev": "8be054f7-4a57-491e-8831-5497c13705de",
     "regions": {
      "a6426f4f-8884-4088-9234-a8778db13c27": {
       "attrs": {
        "height": 0.8,
        "width": 0.8,
        "x": 0.1,
        "y": 0.1
       },
       "content": {
        "cell": "39810ff8-dd88-4c34-ab47-a2c9f962aaa6",
        "part": "whole"
       },
       "id": "a6426f4f-8884-4088-9234-a8778db13c27"
      }
     }
    },
    "9ebbd5a0-0de0-454b-834e-05c0175250e1": {
     "id": "9ebbd5a0-0de0-454b-834e-05c0175250e1",
     "prev": null,
     "regions": {
      "7ca5cdc7-23bb-4104-ae23-6fa719290bf7": {
       "attrs": {
        "height": 0.8,
        "width": 0.8,
        "x": 0.001063829787234073,
        "y": 0.1453900709219858
       },
       "content": {
        "cell": "900f95da-1ebd-402d-9dcc-e9931d4ddb99",
        "part": "whole"
       },
       "id": "7ca5cdc7-23bb-4104-ae23-6fa719290bf7"
      }
     }
    },
    "b70ccad9-a4cd-4242-87a3-0e1053ea8b7c": {
     "id": "b70ccad9-a4cd-4242-87a3-0e1053ea8b7c",
     "prev": "210c53fd-4dc1-4f41-8864-9f3f9d8c624f",
     "regions": {
      "33524608-92de-4b86-8b4e-2e39912794cc": {
       "attrs": {
        "height": 0.8,
        "width": 0.8,
        "x": 0.1,
        "y": 0.1
       },
       "content": {
        "cell": "7fdad524-c723-4e77-b05f-b6cf55a775e1",
        "part": "whole"
       },
       "id": "33524608-92de-4b86-8b4e-2e39912794cc"
      }
     }
    },
    "d97b55cf-3730-462d-ad9b-912357791783": {
     "id": "d97b55cf-3730-462d-ad9b-912357791783",
     "prev": "446edba8-c802-4066-9d56-6009de697ea5",
     "regions": {
      "d0aab6ee-292f-4054-8742-2dc90a74c115": {
       "attrs": {
        "height": 0.8,
        "width": 0.8,
        "x": 0.1,
        "y": 0.1
       },
       "content": {
        "cell": "fc8348a3-6590-4120-91fe-b727b1b44249",
        "part": "whole"
       },
       "id": "d0aab6ee-292f-4054-8742-2dc90a74c115"
      }
     }
    },
    "e7e5dab4-5b5e-45ba-857f-f985d473577b": {
     "id": "e7e5dab4-5b5e-45ba-857f-f985d473577b",
     "prev": "b70ccad9-a4cd-4242-87a3-0e1053ea8b7c",
     "regions": {
      "7dc007b4-f549-4ffd-acc1-bc93c0488140": {
       "attrs": {
        "height": 0.8,
        "width": 0.8,
        "x": 0.1,
        "y": 0.1
       },
       "content": {
        "cell": "bf3863ca-7462-4675-af44-d5638af8d31c",
        "part": "whole"
       },
       "id": "7dc007b4-f549-4ffd-acc1-bc93c0488140"
      }
     }
    },
    "f87068ac-bcc5-48c4-8048-4a8965441d01": {
     "id": "f87068ac-bcc5-48c4-8048-4a8965441d01",
     "prev": "1f965cb2-5fb1-4b62-9a9b-a634a8bc23e5",
     "regions": {
      "18102d9d-737e-43ed-b917-0112cb736e77": {
       "attrs": {
        "height": 0.8,
        "width": 0.8,
        "x": 0.1,
        "y": 0.1
       },
       "content": {
        "cell": "46dbd0d6-fada-4e56-9ad3-e2bb3d8b1bce",
        "part": "whole"
       },
       "id": "18102d9d-737e-43ed-b917-0112cb736e77"
      }
     }
    }
   },
   "themes": {
    "default": "eac81f5d-d111-4b29-8804-af20384acd0e",
    "theme": {
     "eac81f5d-d111-4b29-8804-af20384acd0e": {
      "backgrounds": {
       "backgroundColor": {
        "background-color": "backgroundColor",
        "id": "backgroundColor"
       }
      },
      "id": "eac81f5d-d111-4b29-8804-af20384acd0e",
      "palette": {
       "backgroundColor": {
        "id": "backgroundColor",
        "rgb": [
         17,
         17,
         17
        ]
       },
       "headingColor": {
        "id": "headingColor",
        "rgb": [
         238,
         238,
         238
        ]
       },
       "linkColor": {
        "id": "linkColor",
        "rgb": [
         231,
         173,
         82
        ]
       },
       "mainColor": {
        "id": "mainColor",
        "rgb": [
         238,
         238,
         238
        ]
       }
      },
      "rules": {
       "a": {
        "color": "linkColor"
       },
       "h1": {
        "color": "headingColor",
        "font-family": "Montserrat",
        "font-size": 7
       },
       "h2": {
        "color": "headingColor",
        "font-family": "Montserrat",
        "font-size": 5
       },
       "h3": {
        "color": "headingColor",
        "font-family": "Montserrat",
        "font-size": 3.75
       },
       "h4": {
        "color": "headingColor",
        "font-family": "Montserrat",
        "font-size": 3
       },
       "h5": {
        "color": "headingColor",
        "font-family": "Montserrat"
       },
       "h6": {
        "color": "headingColor",
        "font-family": "Montserrat"
       },
       "h7": {
        "color": "headingColor",
        "font-family": "Montserrat"
       },
       "li": {
        "color": "mainColor",
        "font-family": "Open Sans",
        "font-size": 4
       },
       "p": {
        "color": "mainColor",
        "font-family": "Open Sans",
        "font-size": 4
       }
      },
      "text-base": {
       "color": "mainColor",
       "font-family": "Open Sans",
       "font-size": 4
      }
     }
    }
   }
  }
 },
 "nbformat": 4,
 "nbformat_minor": 1
}
